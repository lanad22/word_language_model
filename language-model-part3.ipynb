{
 "cells": [
  {
   "cell_type": "code",
   "execution_count": 1,
   "metadata": {},
   "outputs": [],
   "source": [
    "from main_2 import main, Config"
   ]
  },
  {
   "cell_type": "code",
   "execution_count": 2,
   "metadata": {},
   "outputs": [],
   "source": [
    "emsize_nhid_values = [200, 400, 600]  # Example values\n",
    "nlayers_values = [1, 2, 3]"
   ]
  },
  {
   "cell_type": "code",
   "execution_count": 4,
   "metadata": {},
   "outputs": [
    {
     "name": "stdout",
     "output_type": "stream",
     "text": [
      "Running experiment for: emsize_nhid:  200, nlayers: 1\n",
      "| epoch   1 |   200/ 2983 batches | lr 20.00 | ms/batch 587.85 | loss  7.52 | ppl  1836.87\n",
      "| epoch   1 |   400/ 2983 batches | lr 20.00 | ms/batch 596.20 | loss  6.63 | ppl   760.79\n",
      "| epoch   1 |   600/ 2983 batches | lr 20.00 | ms/batch 584.64 | loss  6.27 | ppl   528.86\n",
      "| epoch   1 |   800/ 2983 batches | lr 20.00 | ms/batch 594.88 | loss  6.12 | ppl   455.86\n",
      "| epoch   1 |  1000/ 2983 batches | lr 20.00 | ms/batch 592.22 | loss  6.00 | ppl   404.27\n",
      "| epoch   1 |  1200/ 2983 batches | lr 20.00 | ms/batch 626.19 | loss  5.95 | ppl   382.47\n",
      "| epoch   1 |  1400/ 2983 batches | lr 20.00 | ms/batch 534.20 | loss  5.86 | ppl   350.73\n",
      "| epoch   1 |  1600/ 2983 batches | lr 20.00 | ms/batch 502.60 | loss  5.87 | ppl   355.71\n",
      "| epoch   1 |  1800/ 2983 batches | lr 20.00 | ms/batch 496.87 | loss  5.74 | ppl   309.61\n",
      "-----------------------------------------------------------------------------------------\n",
      "Exiting from training early\n"
     ]
    },
    {
     "ename": "AttributeError",
     "evalue": "'TransformerModel' object has no attribute 'rnn'",
     "output_type": "error",
     "traceback": [
      "\u001b[0;31m---------------------------------------------------------------------------\u001b[0m",
      "\u001b[0;31mAttributeError\u001b[0m                            Traceback (most recent call last)",
      "Cell \u001b[0;32mIn[4], line 13\u001b[0m\n\u001b[1;32m     11\u001b[0m     \u001b[38;5;28;01mcontinue\u001b[39;00m  \u001b[38;5;66;03m# Skip this iteration - already have results from part 1\u001b[39;00m\n\u001b[1;32m     12\u001b[0m \u001b[38;5;28mprint\u001b[39m(\u001b[38;5;124mf\u001b[39m\u001b[38;5;124m\"\u001b[39m\u001b[38;5;124mRunning experiment for: emsize_nhid:  \u001b[39m\u001b[38;5;132;01m{\u001b[39;00memsize_nhid\u001b[38;5;132;01m}\u001b[39;00m\u001b[38;5;124m, nlayers: \u001b[39m\u001b[38;5;132;01m{\u001b[39;00mnlayers\u001b[38;5;132;01m}\u001b[39;00m\u001b[38;5;124m\"\u001b[39m)\n\u001b[0;32m---> 13\u001b[0m test_ppl \u001b[38;5;241m=\u001b[39m \u001b[43mmain\u001b[49m\u001b[43m(\u001b[49m\u001b[43mconfig\u001b[49m\u001b[43m)\u001b[49m\n\u001b[1;32m     14\u001b[0m results[(emsize_nhid, nlayers)] \u001b[38;5;241m=\u001b[39m test_ppl\n",
      "File \u001b[0;32m~/Desktop/examples/word_language_model/main_2.py:180\u001b[0m, in \u001b[0;36mmain\u001b[0;34m(args)\u001b[0m\n\u001b[1;32m    176\u001b[0m     \u001b[38;5;66;03m# after load the rnn params are not a continuous chunk of memory\u001b[39;00m\n\u001b[1;32m    177\u001b[0m     \u001b[38;5;66;03m# this makes them a continuous chunk, and will speed up forward pass\u001b[39;00m\n\u001b[1;32m    178\u001b[0m     \u001b[38;5;66;03m# Currently, only rnn model supports flatten_parameters function.\u001b[39;00m\n\u001b[1;32m    179\u001b[0m     \u001b[38;5;28;01mif\u001b[39;00m args\u001b[38;5;241m.\u001b[39mmodel \u001b[38;5;129;01min\u001b[39;00m [\u001b[38;5;124m'\u001b[39m\u001b[38;5;124mRNN_TANH\u001b[39m\u001b[38;5;124m'\u001b[39m, \u001b[38;5;124m'\u001b[39m\u001b[38;5;124mRNN_RELU\u001b[39m\u001b[38;5;124m'\u001b[39m, \u001b[38;5;124m'\u001b[39m\u001b[38;5;124mLSTM\u001b[39m\u001b[38;5;124m'\u001b[39m, \u001b[38;5;124m'\u001b[39m\u001b[38;5;124mGRU\u001b[39m\u001b[38;5;124m'\u001b[39m]:\n\u001b[0;32m--> 180\u001b[0m         \u001b[43mmdl\u001b[49m\u001b[38;5;241;43m.\u001b[39;49m\u001b[43mrnn\u001b[49m\u001b[38;5;241m.\u001b[39mflatten_parameters()\n\u001b[1;32m    182\u001b[0m \u001b[38;5;66;03m# Run on test data.\u001b[39;00m\n\u001b[1;32m    183\u001b[0m test_loss \u001b[38;5;241m=\u001b[39m evaluate(test_data, mdl, criterion, args, corpus)\n",
      "File \u001b[0;32m~/anaconda3/envs/my_env/lib/python3.9/site-packages/torch/nn/modules/module.py:1695\u001b[0m, in \u001b[0;36mModule.__getattr__\u001b[0;34m(self, name)\u001b[0m\n\u001b[1;32m   1693\u001b[0m     \u001b[38;5;28;01mif\u001b[39;00m name \u001b[38;5;129;01min\u001b[39;00m modules:\n\u001b[1;32m   1694\u001b[0m         \u001b[38;5;28;01mreturn\u001b[39;00m modules[name]\n\u001b[0;32m-> 1695\u001b[0m \u001b[38;5;28;01mraise\u001b[39;00m \u001b[38;5;167;01mAttributeError\u001b[39;00m(\u001b[38;5;124mf\u001b[39m\u001b[38;5;124m\"\u001b[39m\u001b[38;5;124m'\u001b[39m\u001b[38;5;132;01m{\u001b[39;00m\u001b[38;5;28mtype\u001b[39m(\u001b[38;5;28mself\u001b[39m)\u001b[38;5;241m.\u001b[39m\u001b[38;5;18m__name__\u001b[39m\u001b[38;5;132;01m}\u001b[39;00m\u001b[38;5;124m'\u001b[39m\u001b[38;5;124m object has no attribute \u001b[39m\u001b[38;5;124m'\u001b[39m\u001b[38;5;132;01m{\u001b[39;00mname\u001b[38;5;132;01m}\u001b[39;00m\u001b[38;5;124m'\u001b[39m\u001b[38;5;124m\"\u001b[39m)\n",
      "\u001b[0;31mAttributeError\u001b[0m: 'TransformerModel' object has no attribute 'rnn'"
     ]
    }
   ],
   "source": [
    "results = {}\n",
    "config = Config()\n",
    "config.epochs = 5 #shorten # of epoch for time efficiency\n",
    "for emsize_nhid in emsize_nhid_values:\n",
    "    for nlayers in nlayers_values:\n",
    "        config.emsize = emsize_nhid\n",
    "        config.nhid = emsize_nhid\n",
    "        config.nlayers = nlayers\n",
    "\n",
    "        if emsize_nhid == 200 and nlayers == 2:\n",
    "            continue  # Skip this iteration - already have results from part 1\n",
    "        print(f\"Running experiment for: emsize_nhid:  {emsize_nhid}, nlayers: {nlayers}\")\n",
    "        test_ppl = main(config)\n",
    "        results[(emsize_nhid, nlayers)] = test_ppl\n"
   ]
  }
 ],
 "metadata": {
  "kernelspec": {
   "display_name": "my_env",
   "language": "python",
   "name": "python3"
  },
  "language_info": {
   "codemirror_mode": {
    "name": "ipython",
    "version": 3
   },
   "file_extension": ".py",
   "mimetype": "text/x-python",
   "name": "python",
   "nbconvert_exporter": "python",
   "pygments_lexer": "ipython3",
   "version": "3.9.18"
  }
 },
 "nbformat": 4,
 "nbformat_minor": 2
}
